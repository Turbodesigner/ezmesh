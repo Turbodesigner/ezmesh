{
 "cells": [
  {
   "attachments": {},
   "cell_type": "markdown",
   "metadata": {},
   "source": [
    "# Meshing"
   ]
  },
  {
   "attachments": {},
   "cell_type": "markdown",
   "metadata": {},
   "source": [
    "## Inviscid Wedge\n",
    "![Inviscid Wedge Mesh](../assets/inviscid_wedge_mesh.png)\n",
    "![Inviscid Wedge](../assets/inviscid_wedge.png)\n",
    "\n",
    "https://su2code.github.io/tutorials/Inviscid_Wedge/"
   ]
  },
  {
   "cell_type": "code",
   "execution_count": 1,
   "metadata": {},
   "outputs": [
    {
     "name": "stdout",
     "output_type": "stream",
     "text": [
      "Info    : Meshing 1D...\n",
      "Info    : [  0%] Meshing curve 1 (Line)\n",
      "Info    : [ 20%] Meshing curve 2 (Line)\n",
      "Info    : [ 30%] Meshing curve 3 (Line)\n",
      "Info    : [ 40%] Meshing curve 4 (Line)\n",
      "Info    : [ 50%] Meshing curve 5 (Line)\n",
      "Info    : [ 70%] Meshing curve 6 (Line)\n",
      "Info    : [ 80%] Meshing curve 7 (Line)\n",
      "Info    : [ 90%] Meshing curve 8 (Line)\n",
      "Info    : Done meshing 1D (Wall 0.000486733s, CPU 0.000888s)\n",
      "Info    : Meshing 2D...\n",
      "Info    : Meshing surface 1 (Plane, Frontal-Delaunay)\n",
      "Info    : Done meshing 2D (Wall 0.0223418s, CPU 0.020909s)\n",
      "Info    : Meshing 3D...\n",
      "Info    : Done meshing 3D (Wall 2.7508e-05s, CPU 3e-05s)\n",
      "Info    : 730 nodes 1466 elements\n"
     ]
    },
    {
     "name": "stderr",
     "output_type": "stream",
     "text": [
      "Warning : Start point 2 and end point 2 of GEO line 2 are closer than the geometrical tolerance, at position (1.5, 1, 0)\n",
      "Warning : Start point 3 and end point 3 of GEO line 4 are closer than the geometrical tolerance, at position (1.5, 0.2, 0)\n",
      "Warning : Start point 5 and end point 5 of GEO line 7 are closer than the geometrical tolerance, at position (0, 0, 0)\n",
      "/usr/local/lib/python3.10/site-packages/pythreejs/traits.py:257: UserWarning: 64-bit data types not supported for WebGL data, casting to 32-bit.\n",
      "  warnings.warn('64-bit data types not supported for WebGL '\n"
     ]
    },
    {
     "data": {
      "application/vnd.jupyter.widget-view+json": {
       "model_id": "70ce67cf3f5349b6bc30c47c4e081a30",
       "version_major": 2,
       "version_minor": 0
      },
      "text/plain": [
       "HTML(value='Coords: ()')"
      ]
     },
     "metadata": {},
     "output_type": "display_data"
    },
    {
     "data": {
      "application/vnd.jupyter.widget-view+json": {
       "model_id": "a4f2a024d5b64132bf5a9a31628afd08",
       "version_major": 2,
       "version_minor": 0
      },
      "text/plain": [
       "Renderer(camera=PerspectiveCamera(aspect=1.3333333333333333, far=1000.0, near=0.001, position=(0.0, 0.0, 1.0),…"
      ]
     },
     "metadata": {},
     "output_type": "display_data"
    },
    {
     "data": {
      "text/html": [
       "<div style=\"float: left; padding-right: 50px\"><h2>Markers</h2><table><tr><td style=\"background-color: rgb(252,44,44)\" width=\"20\"></td><td>outlet</td></tr><tr><td style=\"background-color: rgb(150,252,48)\" width=\"20\"></td><td>upper</td></tr><tr><td style=\"background-color: rgb(42,251,251)\" width=\"20\"></td><td>lower</td></tr><tr><td style=\"background-color: rgb(148,42,253)\" width=\"20\"></td><td>inlet</td></tr></table></div><div style=\"float: left; padding-right: 50px\"><h2>Zones</h2><table><tr><td style=\"background-color: rgb(127,127,127)\" width=\"20\"></td><td>Zone 0</td></tr></table></div>"
      ],
      "text/plain": [
       "<IPython.core.display.HTML object>"
      ]
     },
     "metadata": {},
     "output_type": "display_data"
    },
    {
     "name": "stdout",
     "output_type": "stream",
     "text": [
      "Info    : Writing 'mesh_wedge_inv.su2'...\n",
      "Info    : Writing 1361 elements and 730 nodes\n",
      "Info    : Done writing 'mesh_wedge_inv.su2'\n"
     ]
    }
   ],
   "source": [
    "from ezmesh import CurveLoop, PlaneSurface, Geometry, visualize_mesh\n",
    "import numpy as np\n",
    "\n",
    "with Geometry() as geo:\n",
    "    wedge_coords = np.array([[0, 1], [1.5, 1], [1.5, 0.2], [0.5, 0], [0, 0]])\n",
    "    wedge_curve_loop = CurveLoop(\n",
    "        groups={\n",
    "            \"upper\": [(0, 1), (1.5, 1)],\n",
    "            \"outlet\": [(1.5, 1), (1.5, 0.2)],\n",
    "            \"lower\": [(1.5, 0.2), (0.5, 0), (0, 0)],\n",
    "            \"inlet\": [(0, 0), (0, 1)],\n",
    "        }, \n",
    "        mesh_size=0.05,\n",
    "        # transfinite_cell_counts={\n",
    "        #     150: [0],\n",
    "        #     200: [1,4],\n",
    "        #     100: [2],\n",
    "        #     50:  [3]\n",
    "        # }\n",
    "    )\n",
    "    # transfinite_corners=[0,1,2,4]\n",
    "    surface = PlaneSurface(wedge_curve_loop, is_quad_mesh=True)\n",
    "    mesh = geo.generate(surface)\n",
    "    visualize_mesh(mesh)\n",
    "    geo.write(\"mesh_wedge_inv.su2\")\n",
    "\n"
   ]
  },
  {
   "attachments": {},
   "cell_type": "markdown",
   "metadata": {},
   "source": [
    "## Import Existing Supported Meshes"
   ]
  },
  {
   "cell_type": "code",
   "execution_count": 2,
   "metadata": {},
   "outputs": [
    {
     "data": {
      "application/vnd.jupyter.widget-view+json": {
       "model_id": "dbb3c70d07e0494f876f0fb6f0d208ba",
       "version_major": 2,
       "version_minor": 0
      },
      "text/plain": [
       "HTML(value='Coords: ()')"
      ]
     },
     "metadata": {},
     "output_type": "display_data"
    },
    {
     "data": {
      "application/vnd.jupyter.widget-view+json": {
       "model_id": "050f6199cdb8466c94c7e8a2ea6cd5eb",
       "version_major": 2,
       "version_minor": 0
      },
      "text/plain": [
       "Renderer(camera=PerspectiveCamera(aspect=1.3333333333333333, far=1000.0, near=0.001, position=(0.0, 0.0, 1.0),…"
      ]
     },
     "metadata": {},
     "output_type": "display_data"
    },
    {
     "data": {
      "text/html": [
       "<div style=\"float: left; padding-right: 50px\"><h2>Markers</h2><table><tr><td style=\"background-color: rgb(248,30,30)\" width=\"20\"></td><td> upper</td></tr><tr><td style=\"background-color: rgb(148,247,49)\" width=\"20\"></td><td> inlet</td></tr><tr><td style=\"background-color: rgb(36,253,253)\" width=\"20\"></td><td> lower</td></tr><tr><td style=\"background-color: rgb(144,41,247)\" width=\"20\"></td><td> outlet</td></tr></table></div><div style=\"float: left; padding-right: 50px\"><h2>Zones</h2><table><tr><td style=\"background-color: rgb(127,127,127)\" width=\"20\"></td><td>Zone 0</td></tr></table></div>"
      ],
      "text/plain": [
       "<IPython.core.display.HTML object>"
      ]
     },
     "metadata": {},
     "output_type": "display_data"
    }
   ],
   "source": [
    "from ezmesh import import_from_file\n",
    "from ezmesh import visualize_mesh\n",
    "mesh = import_from_file(\"mesh_wedge_inv.su2\")\n",
    "visualize_mesh(mesh)"
   ]
  },
  {
   "attachments": {},
   "cell_type": "markdown",
   "metadata": {},
   "source": [
    "# Export SU2 Multi-Zone"
   ]
  },
  {
   "cell_type": "code",
   "execution_count": 3,
   "metadata": {},
   "outputs": [],
   "source": [
    "from ezmesh.exporters import export_to_su2\n",
    "\n",
    "export_to_su2([mesh,mesh], \"mesh_wedge_inv_copy.su2\")"
   ]
  }
 ],
 "metadata": {
  "kernelspec": {
   "display_name": "Python 3",
   "language": "python",
   "name": "python3"
  },
  "language_info": {
   "codemirror_mode": {
    "name": "ipython",
    "version": 3
   },
   "file_extension": ".py",
   "mimetype": "text/x-python",
   "name": "python",
   "nbconvert_exporter": "python",
   "pygments_lexer": "ipython3",
   "version": "3.10.10"
  },
  "orig_nbformat": 4,
  "vscode": {
   "interpreter": {
    "hash": "949777d72b0d2535278d3dc13498b2535136f6dfe0678499012e853ee9abcab1"
   }
  }
 },
 "nbformat": 4,
 "nbformat_minor": 2
}
